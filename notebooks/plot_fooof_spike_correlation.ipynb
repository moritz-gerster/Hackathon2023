{
 "cells": [
  {
   "cell_type": "markdown",
   "metadata": {},
   "source": [
    "# Neuropixel Spiking and LFP analysis\n",
    "\n",
    "- [Original Article](https://www.nature.com/articles/s41586-019-1787-x)\n",
    "- [Neuromatch Notebook](https://colab.research.google.com/github/NeuromatchAcademy/course-content/blob/main/projects/neurons/load_steinmetz_decisions.ipynb#scrollTo=J4a1U2AnrDb_)\n",
    "- [Dataset](https://uni-bonn.sciebo.de/s/Z66tPbIFGGSA3FD)"
   ]
  },
  {
   "cell_type": "markdown",
   "metadata": {},
   "source": [
    "## Import"
   ]
  },
  {
   "cell_type": "code",
   "execution_count": 1,
   "metadata": {},
   "outputs": [],
   "source": [
    "import numpy as np\n",
    "import scipy.signal as sig\n",
    "import netCDF4 as nc\n",
    "import matplotlib.pyplot as plt\n",
    "from pathlib import Path\n",
    "import os\n",
    "import scipy.stats as stats\n",
    "from specparam import SpectralModel, SpectralGroupModel\n",
    "from specparam.analysis import get_band_peak_group\n",
    "import seaborn as sns"
   ]
  },
  {
   "cell_type": "markdown",
   "metadata": {},
   "source": [
    "## Load data"
   ]
  },
  {
   "cell_type": "code",
   "execution_count": 2,
   "metadata": {},
   "outputs": [],
   "source": [
    "# create path for sourcedata steinmetz using pathlib\n",
    "source_path = Path(os.getcwd()).parent / \"sourcedata\"\n",
    "data_path = os.path.join(source_path, \"steinmetz_2016-12-14_Cori.nc\")\n",
    "data = nc.Dataset(data_path)"
   ]
  },
  {
   "cell_type": "markdown",
   "metadata": {},
   "source": [
    "## Extract LFP"
   ]
  },
  {
   "cell_type": "code",
   "execution_count": 3,
   "metadata": {},
   "outputs": [],
   "source": [
    "brain_area = \"MOs\"\n",
    "brain_area_lfp_idx = np.where(data.variables[\"brain_area_lfp\"][:] == brain_area)[0][0]\n",
    "area_lfp = data.variables[\"lfp\"][brain_area_lfp_idx].data"
   ]
  },
  {
   "cell_type": "code",
   "execution_count": 85,
   "metadata": {},
   "outputs": [
    {
     "data": {
      "text/plain": [
       "(364, 26)"
      ]
     },
     "execution_count": 85,
     "metadata": {},
     "output_type": "execute_result"
    }
   ],
   "source": [
    "sample_rate = 100\n",
    "freqs, pwr = sig.welch(area_lfp, fs=sample_rate, nperseg=sample_rate // 2)\n",
    "\n",
    "median_psd = np.median(pwr, axis=1)\n",
    "mean_psd = np.mean(pwr, axis=1)\n",
    "\n",
    "pwr.shape\n"
   ]
  },
  {
   "cell_type": "markdown",
   "metadata": {},
   "source": [
    "## Extract spiking"
   ]
  },
  {
   "cell_type": "code",
   "execution_count": 60,
   "metadata": {},
   "outputs": [
    {
     "name": "stderr",
     "output_type": "stream",
     "text": [
      "/var/folders/1y/49sjn_6j1_sgl474yd2zw6pc0000gn/T/ipykernel_10049/4008853292.py:7: RuntimeWarning: divide by zero encountered in divide\n",
      "  spiking_activity_hz = 1 / spiking_activity\n"
     ]
    }
   ],
   "source": [
    "brain_area = \"MOs\"\n",
    "brain_area_spike_idx = np.where(data.variables[\"brain_area\"][:] == brain_area)[0]\n",
    "brain_area_spike_idx\n",
    "area_spiking = data.variables[\"spike_rate\"][brain_area_spike_idx].data\n",
    "\n",
    "spiking_activity = np.mean(area_spiking, axis=0)\n",
    "spiking_activity_hz = 1 / spiking_activity"
   ]
  },
  {
   "cell_type": "code",
   "execution_count": 61,
   "metadata": {},
   "outputs": [
    {
     "data": {
      "text/plain": [
       "(113, 364, 250)"
      ]
     },
     "execution_count": 61,
     "metadata": {},
     "output_type": "execute_result"
    }
   ],
   "source": [
    "area_spiking.shape"
   ]
  },
  {
   "cell_type": "code",
   "execution_count": 64,
   "metadata": {},
   "outputs": [
    {
     "name": "stdout",
     "output_type": "stream",
     "text": [
      "Max idx=59: rho=0.56, p=0.00\n"
     ]
    }
   ],
   "source": [
    "rhos = []\n",
    "pvals = []\n",
    "for neuron in range(area_spiking.shape[0]):\n",
    "    single_neuron_spike_rate = area_spiking[neuron].mean(-1)\n",
    "    rho, pval = stats.spearmanr(mean_psd, single_neuron_spike_rate)\n",
    "    rhos.append(rho)\n",
    "    pvals.append(pval)\n",
    "rhos = np.array(rhos)\n",
    "pvals = np.array(pvals)\n",
    "\n",
    "argmax = np.argmax(rhos)\n",
    "\n",
    "print(f\"Max idx={argmax}: rho={rhos[argmax]:.2f}, p={pvals[argmax]:.2f}\")\n",
    "\n",
    "best_neuron = area_spiking[argmax]"
   ]
  },
  {
   "cell_type": "code",
   "execution_count": 81,
   "metadata": {},
   "outputs": [
    {
     "data": {
      "text/plain": [
       "(364, 250)"
      ]
     },
     "execution_count": 81,
     "metadata": {},
     "output_type": "execute_result"
    }
   ],
   "source": [
    "best_neuron.shape"
   ]
  },
  {
   "cell_type": "code",
   "execution_count": 77,
   "metadata": {},
   "outputs": [
    {
     "data": {
      "text/plain": [
       "(array([238.,   0.,   0.,   0.,   0.,  11.,   0.,   0.,   0.,   1.]),\n",
       " array([0. , 0.2, 0.4, 0.6, 0.8, 1. , 1.2, 1.4, 1.6, 1.8, 2. ]),\n",
       " <BarContainer object of 10 artists>)"
      ]
     },
     "execution_count": 77,
     "metadata": {},
     "output_type": "execute_result"
    },
    {
     "data": {
      "image/png": "[encoded data removed]",
      "text/plain": [
       "<Figure size 640x480 with 1 Axes>"
      ]
     },
     "metadata": {},
     "output_type": "display_data"
    }
   ],
   "source": [
    "plt.hist(best_neuron[-1])"
   ]
  },
  {
   "cell_type": "code",
   "execution_count": 5,
   "metadata": {},
   "outputs": [],
   "source": [
    "assert area_lfp.shape == spiking_activity.shape, \"Shapes don't match\""
   ]
  },
  {
   "cell_type": "code",
   "execution_count": 18,
   "metadata": {},
   "outputs": [
    {
     "ename": "AssertionError",
     "evalue": "500",
     "output_type": "error",
     "traceback": [
      "\u001b[0;31m---------------------------------------------------------------------------\u001b[0m",
      "\u001b[0;31mAssertionError\u001b[0m                            Traceback (most recent call last)",
      "\u001b[1;32m/Users/moritzgerster/Library/CloudStorage/Dropbox/Code/Hackathon2023/notebooks/plot_fooof_spike_correlation.ipynb Cell 11\u001b[0m line \u001b[0;36m3\n\u001b[1;32m      <a href='vscode-notebook-cell:/Users/moritzgerster/Library/CloudStorage/Dropbox/Code/Hackathon2023/notebooks/plot_fooof_spike_correlation.ipynb#X53sZmlsZQ%3D%3D?line=0'>1</a>\u001b[0m \u001b[39m# convert 250 ms windows of area_lfp into 500 ms windows by concatenating every two windows\u001b[39;00m\n\u001b[1;32m      <a href='vscode-notebook-cell:/Users/moritzgerster/Library/CloudStorage/Dropbox/Code/Hackathon2023/notebooks/plot_fooof_spike_correlation.ipynb#X53sZmlsZQ%3D%3D?line=1'>2</a>\u001b[0m area_lfp_500 \u001b[39m=\u001b[39m np\u001b[39m.\u001b[39mconcatenate([area_lfp[i:i\u001b[39m+\u001b[39m\u001b[39m2\u001b[39m] \u001b[39mfor\u001b[39;00m i \u001b[39min\u001b[39;00m \u001b[39mrange\u001b[39m(\u001b[39m0\u001b[39m, area_lfp\u001b[39m.\u001b[39mshape[\u001b[39m0\u001b[39m], \u001b[39m2\u001b[39m)])\n\u001b[0;32m----> <a href='vscode-notebook-cell:/Users/moritzgerster/Library/CloudStorage/Dropbox/Code/Hackathon2023/notebooks/plot_fooof_spike_correlation.ipynb#X53sZmlsZQ%3D%3D?line=2'>3</a>\u001b[0m \u001b[39massert\u001b[39;00m area_lfp_500\u001b[39m.\u001b[39mshape \u001b[39m==\u001b[39m \u001b[39m364\u001b[39m\u001b[39m/\u001b[39m\u001b[39m/\u001b[39m\u001b[39m2\u001b[39m, \u001b[39m500\u001b[39m\n",
      "\u001b[0;31mAssertionError\u001b[0m: 500"
     ]
    }
   ],
   "source": [
    "# # convert 250 ms windows of area_lfp into 500 ms windows by concatenating every two windows\n",
    "# area_lfp_500 = np.concatenate([area_lfp[i:i+2] for i in range(0, area_lfp.shape[0], 2)])\n",
    "# assert area_lfp_500.shape == 364//2, 500"
   ]
  },
  {
   "cell_type": "markdown",
   "metadata": {},
   "source": [
    "## Fit FOOOF"
   ]
  },
  {
   "cell_type": "code",
   "execution_count": 6,
   "metadata": {},
   "outputs": [],
   "source": [
    "fooof_params = {\"max_n_peaks\": 1, \"peak_width_limits\": (4, 8), \"verbose\": True}\n",
    "fit_range = [1, 50]"
   ]
  },
  {
   "cell_type": "markdown",
   "metadata": {},
   "source": [
    "## Correlate Mean aperiodic PSD and Spiking"
   ]
  },
  {
   "cell_type": "code",
   "execution_count": 58,
   "metadata": {},
   "outputs": [],
   "source": [
    "# fm = SpectralModel(**fooof_params)\n",
    "# fm.fit(freqs, pwr[0], freq_range=fit_range)\n",
    "# fm.report(plt_log=False)"
   ]
  },
  {
   "cell_type": "code",
   "execution_count": 59,
   "metadata": {},
   "outputs": [],
   "source": [
    "# exp = fm.get_params('aperiodic_params', 'exponent')\n",
    "# offset = fm.get_params('aperiodic_params', 'offset')\n",
    "# aperiodic_power = 10**offset * freqs[1:]**(-exp)\n",
    "# mean_ap = aperiodic_power.mean()\n",
    "# mean_ap = np.ones(freqs[1:].shape) * mean_ap\n",
    "# plt.loglog(freqs[1:], aperiodic_power, label=\"Model Fit\")\n",
    "# plt.loglog(freqs[1:], pwr[0][1:], label=\"Power Spectrum\")\n",
    "# plt.loglog(freqs[1:], mean_ap, label=\"Mean Aperiodic Power\")\n",
    "# plt.legend();"
   ]
  },
  {
   "cell_type": "code",
   "execution_count": 186,
   "metadata": {},
   "outputs": [],
   "source": [
    "# repeat for entire pwr array in loop\n",
    "fm = SpectralModel(**fooof_params)\n",
    "mean_ap_powers = []\n",
    "ap_powers = []\n",
    "for trial_pwr in pwr:\n",
    "    fm.fit(freqs, trial_pwr, freq_range=fit_range)\n",
    "    offset, exp = fm.get_params('aperiodic_params')\n",
    "    aperiodic_power = 10**offset * freqs[1:]**(-exp)\n",
    "    ap_powers.append(aperiodic_power)\n",
    "    mean_ap = aperiodic_power.mean()\n",
    "    mean_ap = np.ones(freqs[1:].shape) * mean_ap\n",
    "    mean_ap_powers.append(mean_ap)\n",
    "mean_aps = np.array(mean_ap_powers)\n",
    "mean_ap_powers = np.array(mean_ap_powers)"
   ]
  },
  {
   "cell_type": "code",
   "execution_count": 155,
   "metadata": {},
   "outputs": [
    {
     "data": {
      "text/plain": [
       "(364, 250)"
      ]
     },
     "execution_count": 155,
     "metadata": {},
     "output_type": "execute_result"
    },
    {
     "data": {
      "image/png": "[encoded data removed]",
      "text/plain": [
       "<Figure size 640x480 with 1 Axes>"
      ]
     },
     "metadata": {},
     "output_type": "display_data"
    }
   ],
   "source": [
    "import pandas as pd\n",
    "\n",
    "s = pd.Series(np.hstack(best_neuron))\n",
    "# s = s.rolling(250, center=True).sum()\n",
    "s = s.rolling(sample_rate*10, center=True).sum()\n",
    "s.plot()\n",
    "# convert back into original shape (364, 250)\n",
    "mean_firing_rate = np.reshape(s.values, (364, 250))\n",
    "mean_firing_rate.shape"
   ]
  },
  {
   "cell_type": "code",
   "execution_count": 151,
   "metadata": {},
   "outputs": [
    {
     "data": {
      "text/plain": [
       "[<matplotlib.lines.Line2D at 0x290355fd0>]"
      ]
     },
     "execution_count": 151,
     "metadata": {},
     "output_type": "execute_result"
    },
    {
     "data": {
      "image/png": "[encoded data removed]",
      "text/plain": [
       "<Figure size 640x480 with 1 Axes>"
      ]
     },
     "metadata": {},
     "output_type": "display_data"
    }
   ],
   "source": [
    "plt.plot(np.hstack(mean_firing_rate))"
   ]
  },
  {
   "cell_type": "markdown",
   "metadata": {},
   "source": [
    "## Plot"
   ]
  },
  {
   "cell_type": "code",
   "execution_count": 196,
   "metadata": {},
   "outputs": [
    {
     "data": {
      "text/plain": [
       "142.0"
      ]
     },
     "execution_count": 196,
     "metadata": {},
     "output_type": "execute_result"
    }
   ],
   "source": [
    "np.nanmax(mean_firing_rate)"
   ]
  },
  {
   "cell_type": "code",
   "execution_count": 198,
   "metadata": {},
   "outputs": [
    {
     "name": "stderr",
     "output_type": "stream",
     "text": [
      "/var/folders/1y/49sjn_6j1_sgl474yd2zw6pc0000gn/T/ipykernel_10049/1765705655.py:13: UserWarning: Attempt to set non-positive xlim on a log-scaled axis will be ignored.\n",
      "  axes[0, i].set_xlim(freqs[0], freqs[-1])\n"
     ]
    },
    {
     "data": {
      "text/plain": [
       "[Text(0.5, 0, '0'),\n",
       " Text(0.5, 0, '1'),\n",
       " Text(0.5, 0, '2'),\n",
       " Text(0.5, 0, '3'),\n",
       " Text(0.5, 0, '4'),\n",
       " Text(0.5, 0, '5'),\n",
       " Text(0.5, 0, '6'),\n",
       " Text(0.5, 0, '7')]"
      ]
     },
     "execution_count": 198,
     "metadata": {},
     "output_type": "execute_result"
    }
   ],
   "source": [
    "n_trials = 30\n",
    "start = 300\n",
    "fontsize = 15\n",
    "\n",
    "fig, axes = plt.subplots(3, n_trials, figsize=(20, 10), sharey=\"row\", sharex=False,\n",
    "                         gridspec_kw={\"wspace\": 0, \"hspace\": .4, \"height_ratios\": [1, .2, 1]})\n",
    "for i, trial in enumerate(range(start, start + n_trials)):\n",
    "    axes[0, i].loglog(freqs, pwr[trial], \"k\")\n",
    "    axes[0, i].loglog(freqs[1:], ap_powers[trial], \"darkorange\")\n",
    "    axes[0, i].loglog(freqs[1:], mean_ap_powers[trial], \"r\")\n",
    "    axes[0, i].set_xticks([])\n",
    "    axes[0, i].set_yticks([])\n",
    "    axes[0, i].set_xlim(freqs[0], freqs[-1])\n",
    "\n",
    "    axes[1, i].plot(best_neuron[trial], \"k\")\n",
    "    axes[1, i].set_yticks([])\n",
    "    axes[1, i].set_xticks([])\n",
    "\n",
    "    axes[2, i].plot(mean_firing_rate[trial], \"k\")\n",
    "    x_bins = mean_firing_rate[trial].shape[0]\n",
    "    mean_firing_rate_avg = np.ones(x_bins) * mean_firing_rate[trial].mean()\n",
    "    axes[2, i].plot(mean_firing_rate_avg, \"b\")\n",
    "    # mean_ap_powers_scaled = mean_ap_powers[trial] / mean_ap_powers.max() * np.nanmax(mean_firing_rate)\n",
    "    # mean_ap_powers_scaled = np.ones(x_bins) * mean_ap_powers_scaled.mean()\n",
    "    # axes[2, i].plot(mean_ap_powers_scaled, \"darkorange\")\n",
    "    axes[2, i].set_xticks([])\n",
    "\n",
    "axes[0, 0].set_xticks([1, 10, 50], labels=[1, 10, 50], minor=False)\n",
    "axes[0, 0].set_yticks([.1, 1, 10, 100])\n",
    "axes[0, 0].set_xlabel(\"Frequency (Hz)\")\n",
    "axes[0, 0].set_ylabel(\"Power Spectral Density\", fontsize=fontsize)\n",
    "\n",
    "axes[1, 0].set_ylabel(\"Spikes\")\n",
    "axes[1, 0].set_yticks([0, 2, 4])\n",
    "\n",
    "axes[2, 0].set_ylabel(\"Firing Rate (Hz)\", fontsize=fontsize)\n",
    "axes[2, n_trials // 2].set_xlabel(\"Time (s)\", fontsize=fontsize, labelpad=20)\n",
    "[axes[2, j].set_xlabel(f\"{j/4:.0f}\", fontsize=fontsize) for j in range(0, n_trials, 4)]"
   ]
  },
  {
   "cell_type": "code",
   "execution_count": null,
   "metadata": {},
   "outputs": [],
   "source": []
  }
 ],
 "metadata": {
  "kernelspec": {
   "display_name": "LFPAP",
   "language": "python",
   "name": "python3"
  },
  "language_info": {
   "codemirror_mode": {
    "name": "ipython",
    "version": 3
   },
   "file_extension": ".py",
   "mimetype": "text/x-python",
   "name": "python",
   "nbconvert_exporter": "python",
   "pygments_lexer": "ipython3",
   "version": "3.12.0"
  }
 },
 "nbformat": 4,
 "nbformat_minor": 2
}
